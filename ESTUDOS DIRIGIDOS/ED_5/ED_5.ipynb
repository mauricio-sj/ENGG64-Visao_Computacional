{
  "cells": [
    {
      "cell_type": "markdown",
      "source": [
        "\n",
        "**ED_5**\n",
        "\n",
        "Operações Diadicas\n",
        "\n",
        "\n",
        "\n",
        "Aluno: Mauricio dos Santos de Jesus"
      ],
      "metadata": {
        "id": "A1mlrO_Zlq2g"
      }
    },
    {
      "cell_type": "markdown",
      "metadata": {
        "id": "4PNRbuJRjHp1"
      },
      "source": [
        "1) Abrir o vídeo ‘traffic_sequence.mpg’ e implementar um loop para efetuar uma\n",
        "operação de diferença pixel a pixel destacando as mudanças das imagens.\n",
        "Abaixo o exemplo da operação com dois frames do vídeo."
      ]
    },
    {
      "cell_type": "code",
      "execution_count": 1,
      "metadata": {
        "colab": {
          "base_uri": "https://localhost:8080/"
        },
        "id": "kUx_lS9CjkRt",
        "outputId": "b429d77d-fef5-49c7-9cc0-3a46499eac97"
      },
      "outputs": [
        {
          "output_type": "stream",
          "name": "stdout",
          "text": [
            "Vídeo salvo em: /content/outputs/traffic_sequence_diff.mp4\n"
          ]
        }
      ],
      "source": [
        "import cv2 as cv\n",
        "import os\n",
        "\n",
        "video_path = \"/content/traffic_sequence.mpg\"\n",
        "output_folder = \"/content/outputs\"\n",
        "output_video_path = os.path.join(output_folder, \"traffic_sequence_diff.mp4\")\n",
        "\n",
        "if not os.path.exists(output_folder):\n",
        "    os.makedirs(output_folder)\n",
        "\n",
        "video = cv.VideoCapture(video_path)\n",
        "\n",
        "# Obter as propriedades do vídeo original\n",
        "ret, frame1 = video.read()\n",
        "altura, largura, _ = frame1.shape\n",
        "fps = 30  # Defina a taxa de quadros por segundo desejada\n",
        "\n",
        "# Criar um novo escritor de vídeo na pasta 'outputs'\n",
        "video_writer = cv.VideoWriter(output_video_path, cv.VideoWriter_fourcc(*\"mp4v\"), fps, (largura, altura))\n",
        "\n",
        "while video.isOpened():\n",
        "    ret, frame2 = video.read()\n",
        "    if not ret:\n",
        "        break\n",
        "\n",
        "    # Calcular a diferença entre os frames\n",
        "    diff = cv.absdiff(frame1, frame2)\n",
        "\n",
        "    # Escrever o frame de diferença no novo vídeo\n",
        "    video_writer.write(diff)\n",
        "\n",
        "    frame1 = frame2\n",
        "\n",
        "video.release()\n",
        "video_writer.release()\n",
        "\n",
        "print(f\"Vídeo salvo em: {output_video_path}\")\n"
      ]
    },
    {
      "cell_type": "markdown",
      "source": [],
      "metadata": {
        "id": "bglcW3Zoe1oG"
      }
    }
  ],
  "metadata": {
    "colab": {
      "provenance": []
    },
    "kernelspec": {
      "display_name": "Python 3",
      "name": "python3"
    },
    "language_info": {
      "name": "python"
    }
  },
  "nbformat": 4,
  "nbformat_minor": 0
}