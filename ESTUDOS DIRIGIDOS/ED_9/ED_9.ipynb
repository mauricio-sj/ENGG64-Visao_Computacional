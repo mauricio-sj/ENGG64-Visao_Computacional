{
  "nbformat": 4,
  "nbformat_minor": 0,
  "metadata": {
    "colab": {
      "provenance": []
    },
    "kernelspec": {
      "name": "python3",
      "display_name": "Python 3"
    },
    "language_info": {
      "name": "python"
    }
  },
  "cells": [
    {
      "cell_type": "markdown",
      "source": [
        "**ED9 - Momentos**\n",
        "\n",
        "Aluno: Mauricio dos Santos de Jesus\n"
      ],
      "metadata": {
        "id": "tThCCb8QrajX"
      }
    },
    {
      "cell_type": "markdown",
      "source": [
        "1) A partir da imagem abaixo, resolvam os seguintes itens usando Momentos:\n",
        "\n",
        "a. A area do objeto;\n",
        "\n",
        "b. O centróide;\n",
        "\n",
        "c. O momento Central e a matriz de inercia;\n",
        "\n",
        "d. Uma elipse equivalente;\n",
        "\n",
        "e. A orientação do objeto;\n",
        "\n",
        "f. Plotar o centróide e a elipse equivalente sobre o objeto na imagem."
      ],
      "metadata": {
        "id": "PKCfIVb1yZ68"
      }
    },
    {
      "cell_type": "code",
      "execution_count": null,
      "metadata": {
        "colab": {
          "base_uri": "https://localhost:8080/",
          "height": 574
        },
        "id": "nEAHaEX9xVti",
        "outputId": "6a9a949d-74fc-4c8a-98f2-1b3289a14e22"
      },
      "outputs": [
        {
          "output_type": "stream",
          "name": "stderr",
          "text": [
            "<ipython-input-12-69ee063d0370>:36: MatplotlibDeprecationWarning: Passing the angle parameter of __init__() positionally is deprecated since Matplotlib 3.6; the parameter will become keyword-only two minor releases later.\n",
            "  ellipse = Ellipse((cX, cY), np.sqrt(eigenvalues[0] * 5), np.sqrt(eigenvalues[1] * 5), orientation * 180 / np.pi,\n"
          ]
        },
        {
          "output_type": "display_data",
          "data": {
            "text/plain": [
              "<Figure size 640x480 with 1 Axes>"
            ],
            "image/png": "[encoded data removed]"
          },
          "metadata": {}
        },
        {
          "output_type": "stream",
          "name": "stdout",
          "text": [
            "Centróide: (422, 306)\n",
            "Orientação do objeto (em graus): -24.41443467192415\n",
            "Autovalores da matriz de inércia: [3202.05066876  537.85986549]\n",
            "Autovetores da matriz de inércia:\n",
            " [[ 0.91057956  0.41333385]\n",
            " [-0.41333385  0.91057956]]\n"
          ]
        }
      ],
      "source": [
        "import cv2\n",
        "import numpy as np\n",
        "import matplotlib.pyplot as plt\n",
        "from matplotlib.patches import Ellipse\n",
        "\n",
        "# Carregar a imagem usando OpenCV\n",
        "img = cv2.imread(\"/content/aviao_ed.png\")\n",
        "\n",
        "# Converter a imagem para escala de cinza\n",
        "gray_img = cv2.cvtColor(img, cv2.COLOR_BGR2GRAY)\n",
        "\n",
        "# Calcular os momentos na imagem em escala de cinza\n",
        "M = cv2.moments(gray_img)\n",
        "cX = int(M[\"m10\"] / M[\"m00\"])\n",
        "cY = int(M[\"m01\"] / M[\"m00\"])\n",
        "\n",
        "# Cálculo dos momentos centrais\n",
        "mu20 = M[\"mu20\"] / M[\"m00\"]\n",
        "mu02 = M[\"mu02\"] / M[\"m00\"]\n",
        "mu11 = M[\"mu11\"] / M[\"m00\"]\n",
        "\n",
        "# Cálculo da matriz de inércia\n",
        "inertia_matrix = np.array([[mu20, mu11], [mu11, mu02]])\n",
        "\n",
        "# Cálculo da orientação\n",
        "orientation = 0.5 * np.arctan((2 * mu11) / (mu20 - mu02))\n",
        "\n",
        "# Cálculo dos autovalores e autovetores da matriz de inércia\n",
        "eigenvalues, eigenvectors = np.linalg.eig(inertia_matrix)\n",
        "\n",
        "# Mostrar a imagem e o centróide\n",
        "plt.imshow(gray_img, cmap='gray')\n",
        "plt.scatter(cX, cY, color='red', marker='x', s=100)\n",
        "\n",
        "# Plotando o centróide e a elipse equivalente sobre a imagem\n",
        "ellipse = Ellipse((cX, cY), np.sqrt(eigenvalues[0] * 5), np.sqrt(eigenvalues[1] * 5), orientation * 180 / np.pi,\n",
        "                  fill=False, color=\"red\", label=\"Ellipse\")\n",
        "plt.gca().add_patch(ellipse)\n",
        "\n",
        "\n",
        "\n",
        "plt.grid(False)\n",
        "plt.legend()\n",
        "plt.show()\n",
        "\n",
        "print(\"Centróide:\", (cX, cY))\n",
        "print(\"Orientação do objeto (em graus):\", orientation * 180 / np.pi)\n",
        "print(\"Autovalores da matriz de inércia:\", eigenvalues)\n",
        "print(\"Autovetores da matriz de inércia:\\n\", eigenvectors)\n"
      ]
    }
  ]
}